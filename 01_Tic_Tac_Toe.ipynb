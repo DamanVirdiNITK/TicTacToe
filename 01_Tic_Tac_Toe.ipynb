{
  "nbformat": 4,
  "nbformat_minor": 0,
  "metadata": {
    "colab": {
      "name": "01_Tic_Tac_Toe.ipynb",
      "provenance": [],
      "collapsed_sections": []
    },
    "kernelspec": {
      "name": "python3",
      "display_name": "Python 3"
    },
    "language_info": {
      "name": "python"
    }
  },
  "cells": [
    {
      "cell_type": "code",
      "metadata": {
        "colab": {
          "base_uri": "https://localhost:8080/"
        },
        "id": "lcqT1uu-dDJ3",
        "outputId": "d71c18d7-2c49-4d23-96fe-b070cbf50093"
      },
      "source": [
        "#Tic-Tac-Toe Prep session\n",
        "\n",
        "#Q1 : Find value of test board\n",
        "test_board = ['a']*10\n",
        "print(test_board)"
      ],
      "execution_count": null,
      "outputs": [
        {
          "output_type": "stream",
          "text": [
            "['a', 'a', 'a', 'a', 'a', 'a', 'a', 'a', 'a', 'a']\n"
          ],
          "name": "stdout"
        }
      ]
    },
    {
      "cell_type": "markdown",
      "metadata": {
        "id": "RvCRf_0tdneN"
      },
      "source": [
        ""
      ]
    },
    {
      "cell_type": "code",
      "metadata": {
        "id": "8AVsGMC2eGJt",
        "colab": {
          "base_uri": "https://localhost:8080/"
        },
        "outputId": "9d68b11b-ccbd-478e-e4ab-9b63bce4c724"
      },
      "source": [
        "#Q2 : Find value of test board\n",
        "test_board = [' ']*10\n",
        "print(test_board)"
      ],
      "execution_count": null,
      "outputs": [
        {
          "output_type": "stream",
          "text": [
            "[' ', ' ', ' ', ' ', ' ', ' ', ' ', ' ', ' ', ' ']\n"
          ],
          "name": "stdout"
        }
      ]
    },
    {
      "cell_type": "code",
      "metadata": {
        "id": "CBXuVnSwdXhi",
        "colab": {
          "base_uri": "https://localhost:8080/"
        },
        "outputId": "e4dc67a0-f52c-42c3-bd89-f3e2b56538ed"
      },
      "source": [
        "#Q3 Find the output\n",
        "\n",
        "def display_board(board):\n",
        "  print(board[7] + \"|\" + board[8] +'|' +board[9])\n",
        "  print(board[4] + \"|\" + board[5] +'|' +board[6])\n",
        "  print(board[1] + \"|\" + board[2] +'|' +board[3])\n",
        "\n",
        "\n",
        "display_board(test_board)"
      ],
      "execution_count": null,
      "outputs": [
        {
          "output_type": "stream",
          "text": [
            " | | \n",
            " | | \n",
            " | | \n"
          ],
          "name": "stdout"
        }
      ]
    },
    {
      "cell_type": "code",
      "metadata": {
        "colab": {
          "base_uri": "https://localhost:8080/"
        },
        "id": "72EVGga0evNt",
        "outputId": "8339a3b6-58b8-44ac-9536-4f5c5b9a668b"
      },
      "source": [
        "#Q4 Find output\n",
        "test_board = ['#','X','O','X','O','X','O','X','O','X']\n",
        "display_board(test_board)"
      ],
      "execution_count": null,
      "outputs": [
        {
          "output_type": "stream",
          "text": [
            "X|O|X\n",
            "O|X|O\n",
            "X|O|X\n"
          ],
          "name": "stdout"
        }
      ]
    },
    {
      "cell_type": "code",
      "metadata": {
        "colab": {
          "base_uri": "https://localhost:8080/"
        },
        "id": "kP_VWlediPqi",
        "outputId": "c6966718-1f20-49e1-d5d5-253fd80cf2b4"
      },
      "source": [
        "#Q5 Find output and problem\n",
        "display_board(test_board)\n",
        "display_board(test_board)"
      ],
      "execution_count": null,
      "outputs": [
        {
          "output_type": "stream",
          "text": [
            "X|O|X\n",
            "O|X|O\n",
            "X|O|X\n",
            "X|O|X\n",
            "O|X|O\n",
            "X|O|X\n"
          ],
          "name": "stdout"
        }
      ]
    },
    {
      "cell_type": "code",
      "metadata": {
        "colab": {
          "base_uri": "https://localhost:8080/"
        },
        "id": "ad0_NEvmiYFE",
        "outputId": "3e59829b-9000-471f-8a8d-80e4ed8b678f"
      },
      "source": [
        "# How to clear the board every time\n",
        "\n",
        "from IPython.display import clear_output\n",
        "\n",
        "def display_board(board):\n",
        "    clear_output()  # Remember, this only works in jupyter!\n",
        "    \n",
        "    print(' ' + board[7] + ' | ' + board[8] + ' | ' + board[9])\n",
        "    print(' ' + board[4] + ' | ' + board[5] + ' | ' + board[6])\n",
        "    print(' ' + board[1] + ' | ' + board[2] + ' | ' + board[3])\n",
        "\n",
        "display_board(test_board)\n",
        "display_board(test_board)\n",
        "\n",
        "display_board(test_board)\n"
      ],
      "execution_count": null,
      "outputs": [
        {
          "output_type": "stream",
          "text": [
            " X | O | X\n",
            " O | X | O\n",
            " X | O | X\n"
          ],
          "name": "stdout"
        }
      ]
    },
    {
      "cell_type": "code",
      "metadata": {
        "colab": {
          "base_uri": "https://localhost:8080/"
        },
        "id": "V-Sevj34itBg",
        "outputId": "0da2e266-cd27-4768-b61a-1fa600c61eb0"
      },
      "source": [
        "#return statement\n",
        "def demo():\n",
        "   a = 5\n",
        "   return a\n",
        "  \n",
        "x = demo()\n",
        "print(x)"
      ],
      "execution_count": null,
      "outputs": [
        {
          "output_type": "stream",
          "text": [
            "5\n"
          ],
          "name": "stdout"
        }
      ]
    },
    {
      "cell_type": "code",
      "metadata": {
        "colab": {
          "base_uri": "https://localhost:8080/"
        },
        "id": "18mLZ4BglKI0",
        "outputId": "a4bfcf43-29a5-4c77-f7a8-bb6ca7302f48"
      },
      "source": [
        "#return statement\n",
        "def demo():\n",
        "   a = 5\n",
        "   b = 6\n",
        "   return (a,b)\n",
        "  \n",
        "x,y = demo()\n",
        "print(x)\n",
        "print(y)"
      ],
      "execution_count": null,
      "outputs": [
        {
          "output_type": "stream",
          "text": [
            "5\n",
            "6\n"
          ],
          "name": "stdout"
        }
      ]
    },
    {
      "cell_type": "markdown",
      "metadata": {
        "id": "rFXQqljelGLs"
      },
      "source": [
        ""
      ]
    },
    {
      "cell_type": "code",
      "metadata": {
        "colab": {
          "base_uri": "https://localhost:8080/"
        },
        "id": "3vvbF3bDl5eb",
        "outputId": "b5c0bc6b-784b-4a39-8bfb-005c048cd418"
      },
      "source": [
        "#while loop\n",
        "marker = ''\n",
        "    \n",
        "while marker != 'X':\n",
        "    marker = input('Player 1: Do you want to be X or O? ').upper()\n",
        "\n",
        "    if marker == 'X':\n",
        "       print(\"Correct\")"
      ],
      "execution_count": null,
      "outputs": [
        {
          "output_type": "stream",
          "text": [
            "Player 1: Do you want to be X or O? q\n",
            "Player 1: Do you want to be X or O? e\n",
            "Player 1: Do you want to be X or O? X\n",
            "Correct\n"
          ],
          "name": "stdout"
        }
      ]
    },
    {
      "cell_type": "code",
      "metadata": {
        "colab": {
          "base_uri": "https://localhost:8080/"
        },
        "id": "Z4CSf5P8mLcc",
        "outputId": "61c4f8fd-1e09-480c-d1b9-e3b08495adc3"
      },
      "source": [
        "#random \n",
        "import random\n",
        "\n",
        "print(random.randint(0, 1)) "
      ],
      "execution_count": null,
      "outputs": [
        {
          "output_type": "stream",
          "text": [
            "1\n"
          ],
          "name": "stdout"
        }
      ]
    },
    {
      "cell_type": "code",
      "metadata": {
        "colab": {
          "base_uri": "https://localhost:8080/"
        },
        "id": "fW7SWgRzpoD6",
        "outputId": "c04e2490-d180-4402-cb0a-2705dff3b1da"
      },
      "source": [
        "#return with condition\n",
        "\n",
        "def demo(a):\n",
        "    \n",
        "    return a == 5\n",
        "\n",
        "demo(5)\n",
        "demo(6)"
      ],
      "execution_count": null,
      "outputs": [
        {
          "output_type": "execute_result",
          "data": {
            "text/plain": [
              "False"
            ]
          },
          "metadata": {
            "tags": []
          },
          "execution_count": 32
        }
      ]
    },
    {
      "cell_type": "code",
      "metadata": {
        "colab": {
          "base_uri": "https://localhost:8080/"
        },
        "id": "YASdWvCKp7WR",
        "outputId": "dc25c2dc-67b9-48e8-8217-7b60849115cb"
      },
      "source": [
        "def demo1():\n",
        "  print(\"Inside demo1\")\n",
        "\n",
        "def demo2():\n",
        "  print(\"Inside demo2 -1\")\n",
        "  demo1()\n",
        "  print(\"Inside demo2 -2\")\n",
        "\n",
        "demo2()"
      ],
      "execution_count": null,
      "outputs": [
        {
          "output_type": "stream",
          "text": [
            "Inside demo2 -1\n",
            "Inside demo1\n",
            "Inside demo2 -2\n"
          ],
          "name": "stdout"
        }
      ]
    },
    {
      "cell_type": "code",
      "metadata": {
        "id": "TmMf_yXJq2Am"
      },
      "source": [
        ""
      ],
      "execution_count": null,
      "outputs": []
    }
  ]
}