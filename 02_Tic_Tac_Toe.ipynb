{
  "nbformat": 4,
  "nbformat_minor": 0,
  "metadata": {
    "colab": {
      "name": "02_Tic_Tac_Toe.ipynb",
      "provenance": []
    },
    "kernelspec": {
      "name": "python3",
      "display_name": "Python 3"
    },
    "language_info": {
      "name": "python"
    }
  },
  "cells": [
    {
      "cell_type": "markdown",
      "metadata": {
        "id": "qZwY7l4Jhcpx"
      },
      "source": [
        "TIC-TAC-TOE"
      ]
    },
    {
      "cell_type": "markdown",
      "metadata": {
        "id": "fC6N8Rg_LQEJ"
      },
      "source": [
        ""
      ]
    },
    {
      "cell_type": "markdown",
      "metadata": {
        "id": "mCzzUoLphhQD"
      },
      "source": [
        "Step 1: Create display board"
      ]
    },
    {
      "cell_type": "code",
      "metadata": {
        "id": "saHw5ZhDhfOM"
      },
      "source": [
        "from IPython.display import clear_output\n",
        "\n",
        "def display_board(board):\n",
        "    clear_output()  # Remember, this only works in jupyter!\n",
        "    \n",
        "    print(' ' + board[7] + ' | ' + board[8] + ' | ' + board[9])\n",
        "    print(' ' + board[4] + ' | ' + board[5] + ' | ' + board[6])\n",
        "    print(' ' + board[1] + ' | ' + board[2] + ' | ' + board[3])\n",
        "    "
      ],
      "execution_count": 1,
      "outputs": []
    },
    {
      "cell_type": "markdown",
      "metadata": {
        "id": "9ViHLt-5hzuU"
      },
      "source": [
        " Test board"
      ]
    },
    {
      "cell_type": "code",
      "metadata": {
        "colab": {
          "base_uri": "https://localhost:8080/"
        },
        "id": "V8Zs-0EThxih",
        "outputId": "3a68db82-fd5f-49f7-cbd8-bbcd05f91fce"
      },
      "source": [
        "test_board = ['#','X','O','X','O','X','O','X','O','X']\n",
        "display_board(test_board)"
      ],
      "execution_count": 2,
      "outputs": [
        {
          "output_type": "stream",
          "name": "stdout",
          "text": [
            " X | O | X\n",
            " O | X | O\n",
            " X | O | X\n"
          ]
        }
      ]
    },
    {
      "cell_type": "markdown",
      "metadata": {
        "id": "jxB-tIymjPEF"
      },
      "source": [
        "Step 2: Take input from user"
      ]
    },
    {
      "cell_type": "code",
      "metadata": {
        "id": "3Tea85KRiJb-"
      },
      "source": [
        "def player_input():\n",
        "    marker = ''\n",
        "    \n",
        "    while not (marker == 'X' or marker == 'O'):\n",
        "        marker = input('Player 1: Do you want to be X or O? ').upper()\n",
        "\n",
        "    if marker == 'X':\n",
        "        return ('X', 'O')\n",
        "    else:\n",
        "        return ('O', 'X')"
      ],
      "execution_count": 3,
      "outputs": []
    },
    {
      "cell_type": "code",
      "metadata": {
        "colab": {
          "base_uri": "https://localhost:8080/"
        },
        "id": "GuhI9jbqlCQz",
        "outputId": "91150f02-5df4-4610-aabe-45a63385565e"
      },
      "source": [
        "player1_marker, player2_marker = player_input()"
      ],
      "execution_count": 5,
      "outputs": [
        {
          "name": "stdout",
          "output_type": "stream",
          "text": [
            "Player 1: Do you want to be X or O? O\n"
          ]
        }
      ]
    },
    {
      "cell_type": "markdown",
      "metadata": {
        "id": "ESCzUJq-nZWV"
      },
      "source": [
        "Step 3: Fill the user value on board"
      ]
    },
    {
      "cell_type": "code",
      "metadata": {
        "id": "hW-KNAaFjwgX"
      },
      "source": [
        "\n",
        "def place_marker(board, marker, position):\n",
        "    board[position] = marker"
      ],
      "execution_count": 6,
      "outputs": []
    },
    {
      "cell_type": "code",
      "metadata": {
        "colab": {
          "base_uri": "https://localhost:8080/"
        },
        "id": "g5ydfNGrnj1K",
        "outputId": "a9bb7344-de40-41fe-d4c7-4c9be94436bd"
      },
      "source": [
        "\n",
        "place_marker(test_board,'D',6)\n",
        "display_board(test_board)"
      ],
      "execution_count": 7,
      "outputs": [
        {
          "output_type": "stream",
          "name": "stdout",
          "text": [
            " X | O | X\n",
            " O | X | D\n",
            " X | O | X\n"
          ]
        }
      ]
    },
    {
      "cell_type": "markdown",
      "metadata": {
        "id": "p-1niOsan70n"
      },
      "source": [
        "Step 4: Winning Goals"
      ]
    },
    {
      "cell_type": "code",
      "metadata": {
        "id": "OX-GqZB8nmEV"
      },
      "source": [
        "\n",
        "def win_check(board,mark):\n",
        "    \n",
        "    return ((board[7] == mark and board[8] == mark and board[9] == mark) or # across the top\n",
        "    (board[4] == mark and board[5] == mark and board[6] == mark) or # across the middle\n",
        "    (board[1] == mark and board[2] == mark and board[3] == mark) or # across the bottom\n",
        "    (board[7] == mark and board[4] == mark and board[1] == mark) or # down the middle\n",
        "    (board[8] == mark and board[5] == mark and board[2] == mark) or # down the middle\n",
        "    (board[9] == mark and board[6] == mark and board[3] == mark) or # down the right side\n",
        "    (board[7] == mark and board[5] == mark and board[3] == mark) or # diagonal\n",
        "    (board[9] == mark and board[5] == mark and board[1] == mark)) # diagonal"
      ],
      "execution_count": 8,
      "outputs": []
    },
    {
      "cell_type": "code",
      "metadata": {
        "colab": {
          "base_uri": "https://localhost:8080/"
        },
        "id": "9opQqeghoctU",
        "outputId": "b40fe2a2-e277-4ea9-de07-26b39583a7cd"
      },
      "source": [
        "win_check(test_board,'X')"
      ],
      "execution_count": 9,
      "outputs": [
        {
          "output_type": "execute_result",
          "data": {
            "text/plain": [
              "True"
            ]
          },
          "metadata": {},
          "execution_count": 9
        }
      ]
    },
    {
      "cell_type": "markdown",
      "metadata": {
        "id": "RPvGW9aToq2J"
      },
      "source": [
        "Step 5: Decide who will have first turn\n"
      ]
    },
    {
      "cell_type": "code",
      "metadata": {
        "id": "KFfFtET3on9O"
      },
      "source": [
        "\n",
        "import random\n",
        "\n",
        "def choose_first():\n",
        "    if random.randint(0, 1) == 0:\n",
        "        return 'Player 2'\n",
        "    else:\n",
        "        return 'Player 1'"
      ],
      "execution_count": 10,
      "outputs": []
    },
    {
      "cell_type": "markdown",
      "metadata": {
        "id": "ZVgxrRMVqONA"
      },
      "source": [
        "Step 6: Check if space is vacant\n"
      ]
    },
    {
      "cell_type": "code",
      "metadata": {
        "id": "tYsBsIYFpG9P"
      },
      "source": [
        "def space_check(board, position):\n",
        "    \n",
        "    return board[position] == ' '"
      ],
      "execution_count": 11,
      "outputs": []
    },
    {
      "cell_type": "markdown",
      "metadata": {
        "id": "PNSMXVpOqZkc"
      },
      "source": [
        "Step 7 : To check if whole board is full"
      ]
    },
    {
      "cell_type": "code",
      "metadata": {
        "id": "l0dNBT4gqSKo"
      },
      "source": [
        "def full_board_check(board):\n",
        "    for i in range(1,10):\n",
        "        if space_check(board, i):\n",
        "            return False\n",
        "    return True\n",
        "\n",
        "#True if whole board is full else False"
      ],
      "execution_count": 12,
      "outputs": []
    },
    {
      "cell_type": "markdown",
      "metadata": {
        "id": "LxIkv4SVrPqw"
      },
      "source": [
        "Step 8: Take input from user\n"
      ]
    },
    {
      "cell_type": "code",
      "metadata": {
        "id": "bnB9PcDEqdQy"
      },
      "source": [
        "def player_choice(board):\n",
        "    position = 0\n",
        "    \n",
        "    while position not in [1,2,3,4,5,6,7,8,9] or not space_check(board, position):\n",
        "        position = int(input('Choose your next position: (1-9) '))\n",
        "        \n",
        "    return position"
      ],
      "execution_count": 13,
      "outputs": []
    },
    {
      "cell_type": "markdown",
      "metadata": {
        "id": "un-Pzw9crili"
      },
      "source": [
        "Step 9: Ask if they want to play game again\n"
      ]
    },
    {
      "cell_type": "code",
      "metadata": {
        "id": "DaaNH5rLrVUc"
      },
      "source": [
        "def replay():\n",
        "    \n",
        "    return input('Do you want to play again? Enter Yes or No: ').lower().startswith('y')"
      ],
      "execution_count": 14,
      "outputs": []
    },
    {
      "cell_type": "code",
      "metadata": {
        "id": "ehnF_IIdrpyz"
      },
      "source": [
        "#Step 10:Complete game"
      ],
      "execution_count": 15,
      "outputs": []
    },
    {
      "cell_type": "code",
      "metadata": {
        "colab": {
          "base_uri": "https://localhost:8080/"
        },
        "id": "ByV9__o6sM2k",
        "outputId": "2ce8edbf-59b4-4eb4-9750-3c243296f0c9"
      },
      "source": [
        "print('Welcome to Tic Tac Toe!')\n",
        "\n",
        "while True:\n",
        "    # Reset the board\n",
        "    theBoard = [' '] * 10\n",
        "    player1_marker, player2_marker = player_input()\n",
        "    turn = choose_first()\n",
        "    print(turn + ' will go first.')\n",
        "    \n",
        "    play_game = input('Are you ready to play? Enter Yes or No.')\n",
        "    \n",
        "    if play_game.lower()[0] == 'y':\n",
        "        game_on = True\n",
        "    else:\n",
        "        game_on = False\n",
        "\n",
        "    while game_on:\n",
        "        if turn == 'Player 1':\n",
        "            # Player1's turn.\n",
        "            \n",
        "            display_board(theBoard)\n",
        "            position = player_choice(theBoard)\n",
        "            place_marker(theBoard, player1_marker, position)\n",
        "\n",
        "            if win_check(theBoard, player1_marker):\n",
        "                display_board(theBoard)\n",
        "                print('Congratulations! You have won the game!')\n",
        "                game_on = False\n",
        "            else:\n",
        "                if full_board_check(theBoard):\n",
        "                    display_board(theBoard)\n",
        "                    print('The game is a draw!')\n",
        "                    break\n",
        "                else:\n",
        "                    turn = 'Player 2'\n",
        "\n",
        "        else:\n",
        "            # Player2's turn.\n",
        "            \n",
        "            display_board(theBoard)\n",
        "            position = player_choice(theBoard)\n",
        "            place_marker(theBoard, player2_marker, position)\n",
        "\n",
        "            if win_check(theBoard, player2_marker):\n",
        "                display_board(theBoard)\n",
        "                print('Player 2 has won!')\n",
        "                game_on = False\n",
        "            else:\n",
        "                if full_board_check(theBoard):\n",
        "                    display_board(theBoard)\n",
        "                    print('The game is a draw!')\n",
        "                    break\n",
        "                else:\n",
        "                    turn = 'Player 1'\n",
        "\n",
        "    if not replay():\n",
        "        break"
      ],
      "execution_count": null,
      "outputs": [
        {
          "output_type": "stream",
          "name": "stdout",
          "text": [
            "Welcome to Tic Tac Toe!\n"
          ]
        }
      ]
    },
    {
      "cell_type": "code",
      "metadata": {
        "id": "-Bf86Y8zsPj_"
      },
      "source": [
        ""
      ],
      "execution_count": null,
      "outputs": []
    }
  ]
}